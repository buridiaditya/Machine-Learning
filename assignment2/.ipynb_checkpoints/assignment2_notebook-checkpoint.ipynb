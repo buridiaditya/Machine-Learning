{
 "cells": [
  {
   "cell_type": "code",
   "execution_count": 1,
   "metadata": {},
   "outputs": [],
   "source": [
    "import numpy as np\n",
    "import re\n",
    "import nltk\n",
    "from nltk.corpus import stopwords\n",
    "from nltk.stem import PorterStemmer\n",
    "from neuralnetwork import NeuralNetwork"
   ]
  },
  {
   "cell_type": "code",
   "execution_count": 2,
   "metadata": {},
   "outputs": [
    {
     "name": "stdout",
     "output_type": "stream",
     "text": [
      "showing info https://raw.githubusercontent.com/nltk/nltk_data/gh-pages/index.xml\n"
     ]
    },
    {
     "data": {
      "text/plain": [
       "True"
      ]
     },
     "execution_count": 2,
     "metadata": {},
     "output_type": "execute_result"
    }
   ],
   "source": [
    "# Run only if you need to install nltk.corpus and nltk.stem\n",
    "nltk.download()"
   ]
  },
  {
   "cell_type": "code",
   "execution_count": 2,
   "metadata": {},
   "outputs": [],
   "source": [
    "# Read the data set and parse independent lines\n",
    "fd = open(\"Assignment_2_data.txt\",\"r\")\n",
    "file_data = fd.read()\n",
    "lines = (file_data).splitlines()"
   ]
  },
  {
   "cell_type": "code",
   "execution_count": 3,
   "metadata": {},
   "outputs": [],
   "source": [
    "# Create Necessary objects\n",
    "ps = PorterStemmer()\n",
    "y_target_names = []\n",
    "x = []\n",
    "stop_words = set(stopwords.words('english'))\n",
    "unique_tokens = set()"
   ]
  },
  {
   "cell_type": "code",
   "execution_count": 4,
   "metadata": {},
   "outputs": [],
   "source": [
    "# Pasing input file into labels and features \n",
    "for i in range(len(lines)): \n",
    "    # Splitting based on white space and non alpha numberic characters\n",
    "    words_tokens = re.split('\\W+',lines[i])\n",
    "    words_tokens = list(filter(lambda temp: (temp != '' ),words_tokens)) \n",
    "    \n",
    "    # Removing stop word from the data\n",
    "    filtered_sentence = []\n",
    "    for w in words_tokens:\n",
    "        if w not in stop_words:\n",
    "        # Applying porter stemmer\n",
    "            stemmed_word = ps.stem(w).lower()\n",
    "            filtered_sentence.append(stemmed_word)\n",
    "\n",
    "\n",
    "    # Store pre processed data in x and y_target_names\n",
    "    y_target_names.append(filtered_sentence[0])\n",
    "    x.append(filtered_sentence[1:])\n",
    "    unique_tokens.update(filtered_sentence[1:])"
   ]
  },
  {
   "cell_type": "code",
   "execution_count": 5,
   "metadata": {},
   "outputs": [],
   "source": [
    "# Declare variables for one hot encoding\n",
    "N = len(x)\n",
    "unique_tokens = list(unique_tokens)\n",
    "encoding_length = (len(unique_tokens))\n",
    "x_encoded = np.zeros( ( N , encoding_length) )\n"
   ]
  },
  {
   "cell_type": "code",
   "execution_count": 6,
   "metadata": {},
   "outputs": [],
   "source": [
    "# Binary encoding of features and labels\n",
    "for i in range(N):\n",
    "    for j in x[i]:\n",
    "        ind = unique_tokens.index(j)\n",
    "        x_encoded[i][ind] = 1;\n",
    "        \n",
    "y_target = np.ones((N,1))\n",
    "for i in range(len(y_target_names)):\n",
    "    if(y_target_names[i] == \"ham\"):\n",
    "        y_target[i] = 0"
   ]
  },
  {
   "cell_type": "code",
   "execution_count": 7,
   "metadata": {},
   "outputs": [],
   "source": [
    "# Split training and test error\n",
    "trainN = int(0.8*N)\n",
    "\n",
    "X_train = x_encoded[0:trainN]\n",
    "y_train = y_target[0:trainN]\n",
    "\n",
    "X_test = x_encoded[trainN:]\n",
    "y_test = y_target[trainN:]"
   ]
  },
  {
   "cell_type": "code",
   "execution_count": 8,
   "metadata": {},
   "outputs": [
    {
     "name": "stdout",
     "output_type": "stream",
     "text": [
      "(4459, 7375)\n",
      "(4459, 1)\n"
     ]
    }
   ],
   "source": [
    "N,M = X_train.shape\n",
    "print (X_train.shape)\n",
    "print (y_train.shape)"
   ]
  },
  {
   "cell_type": "code",
   "execution_count": null,
   "metadata": {},
   "outputs": [],
   "source": [
    "# Using tanh activation function without softmax layer 2A1\n",
    "nn = NeuralNetwork(M,np.array([100,50]),1)"
   ]
  },
  {
   "cell_type": "code",
   "execution_count": null,
   "metadata": {},
   "outputs": [],
   "source": [
    "nn.train(X_train,y_train,X_test,y_test,epochs=500,learning_rate=1,learning_rate_decay=0.98,batch_size=10)"
   ]
  },
  {
   "cell_type": "code",
   "execution_count": null,
   "metadata": {},
   "outputs": [],
   "source": [
    "nn.plot()"
   ]
  },
  {
   "cell_type": "code",
   "execution_count": 10,
   "metadata": {},
   "outputs": [],
   "source": [
    "# Sigmoid without softmax layer 2A2\n",
    "nn2 = NeuralNetwork(M,np.array([100,50]),1,activation_function=\"sigmoid\",weight_scale=1)"
   ]
  },
  {
   "cell_type": "code",
   "execution_count": null,
   "metadata": {},
   "outputs": [
    {
     "name": "stdout",
     "output_type": "stream",
     "text": [
      "-----------Ratio of Correct predictions over testset(960/1115)-----------\n",
      "-----------Ratio of Correct predictions over training set(3843/4459)-----------\n",
      "Epoch (1/500) Training Error : 0.090574\n",
      "Epoch (2/500) Training Error : 0.034068\n",
      "-----------Ratio of Correct predictions over testset(1085/1115)-----------\n",
      "-----------Ratio of Correct predictions over training set(4376/4459)-----------\n",
      "Epoch (3/500) Training Error : 0.020369\n",
      "Epoch (4/500) Training Error : 0.012659\n",
      "-----------Ratio of Correct predictions over testset(1089/1115)-----------\n",
      "-----------Ratio of Correct predictions over training set(4407/4459)-----------\n"
     ]
    }
   ],
   "source": [
    "nn2.train(X_train,y_train,X_test,y_test,epochs=500,learning_rate=1,learning_rate_decay=0.98,batch_size=1)"
   ]
  },
  {
   "cell_type": "code",
   "execution_count": null,
   "metadata": {},
   "outputs": [],
   "source": [
    "nn2.plot()"
   ]
  },
  {
   "cell_type": "code",
   "execution_count": null,
   "metadata": {},
   "outputs": [],
   "source": [
    "# Using sigmoid activation function with softmax layer 2B1\n",
    "nn = NeuralNetwork(M,np.array([100,50]),2,activation_function=\"sigmoid\",weight_scale=1)"
   ]
  },
  {
   "cell_type": "code",
   "execution_count": null,
   "metadata": {},
   "outputs": [],
   "source": [
    "nn.train(X_train,y_train,X_test,y_test,epochs=1000,learning_rate=1,learning_rate_decay=0.98,method=\"two\")"
   ]
  },
  {
   "cell_type": "code",
   "execution_count": null,
   "metadata": {},
   "outputs": [],
   "source": [
    "nn.plot()"
   ]
  },
  {
   "cell_type": "code",
   "execution_count": null,
   "metadata": {},
   "outputs": [],
   "source": [
    "# tanh activation function with softmax layer 2B2\n",
    "nn2 = NeuralNetwork(M,np.array([100,50]),2)"
   ]
  },
  {
   "cell_type": "code",
   "execution_count": null,
   "metadata": {},
   "outputs": [],
   "source": [
    "nn2.train(X_train,y_train,X_test,y_test,epochs=500,learning_rate=2e-1,learning_rate_decay=0.98,method=\"two\")"
   ]
  },
  {
   "cell_type": "code",
   "execution_count": null,
   "metadata": {},
   "outputs": [],
   "source": [
    "nn2.plot()"
   ]
  },
  {
   "cell_type": "code",
   "execution_count": null,
   "metadata": {},
   "outputs": [],
   "source": []
  }
 ],
 "metadata": {
  "kernelspec": {
   "display_name": "Python 3",
   "language": "python",
   "name": "python3"
  },
  "language_info": {
   "codemirror_mode": {
    "name": "ipython",
    "version": 3
   },
   "file_extension": ".py",
   "mimetype": "text/x-python",
   "name": "python",
   "nbconvert_exporter": "python",
   "pygments_lexer": "ipython3",
   "version": "3.6.5"
  }
 },
 "nbformat": 4,
 "nbformat_minor": 2
}
