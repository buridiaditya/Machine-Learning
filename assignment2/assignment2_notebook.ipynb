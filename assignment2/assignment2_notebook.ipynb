{
 "cells": [
  {
   "cell_type": "code",
   "execution_count": 1,
   "metadata": {},
   "outputs": [],
   "source": [
    "import numpy as np\n",
    "import re\n",
    "import nltk\n",
    "from nltk.corpus import stopwords\n",
    "from nltk.stem import PorterStemmer\n",
    "from neuralnetwork import NeuralNetwork"
   ]
  },
  {
   "cell_type": "code",
   "execution_count": null,
   "metadata": {},
   "outputs": [],
   "source": [
    "# Run only if you need to install nltk.corpus and nltk.stem\n",
    "nltk.download()"
   ]
  },
  {
   "cell_type": "code",
   "execution_count": 2,
   "metadata": {},
   "outputs": [],
   "source": [
    "# Read the data set and parse independent lines\n",
    "fd = open(\"Assignment_2_data.txt\",\"r\")\n",
    "file_data = fd.read()\n",
    "lines = (file_data).splitlines()"
   ]
  },
  {
   "cell_type": "code",
   "execution_count": 3,
   "metadata": {},
   "outputs": [],
   "source": [
    "# Create Necessary objects\n",
    "ps = PorterStemmer()\n",
    "y_target_names = []\n",
    "x = []\n",
    "stop_words = set(stopwords.words('english'))\n",
    "unique_tokens = set()"
   ]
  },
  {
   "cell_type": "code",
   "execution_count": 4,
   "metadata": {},
   "outputs": [],
   "source": [
    "# Pasing input file into labels and features \n",
    "for i in range(len(lines)): \n",
    "    # Splitting based on white space and non alpha numberic characters\n",
    "    words_tokens = re.split('\\W+',lines[i])\n",
    "    words_tokens = list(filter(lambda temp: (temp != '' ),words_tokens)) \n",
    "    \n",
    "    # Removing stop word from the data\n",
    "    filtered_sentence = []\n",
    "    for w in words_tokens:\n",
    "        if w not in stop_words:\n",
    "        # Applying porter stemmer\n",
    "            stemmed_word = ps.stem(w).lower()\n",
    "            filtered_sentence.append(stemmed_word)\n",
    "\n",
    "\n",
    "    # Store pre processed data in x and y_target_names\n",
    "    y_target_names.append(filtered_sentence[0])\n",
    "    x.append(filtered_sentence[1:])\n",
    "    unique_tokens.update(filtered_sentence[1:])"
   ]
  },
  {
   "cell_type": "code",
   "execution_count": 5,
   "metadata": {},
   "outputs": [],
   "source": [
    "# Declare variables for one hot encoding\n",
    "N = len(x)\n",
    "unique_tokens = list(unique_tokens)\n",
    "encoding_length = (len(unique_tokens))\n",
    "x_encoded = np.zeros( ( N , encoding_length) )\n"
   ]
  },
  {
   "cell_type": "code",
   "execution_count": 6,
   "metadata": {},
   "outputs": [],
   "source": [
    "# Binary encoding of features and labels\n",
    "for i in range(N):\n",
    "    for j in x[i]:\n",
    "        ind = unique_tokens.index(j)\n",
    "        x_encoded[i][ind] = 1;\n",
    "        \n",
    "y_target = np.zeros((N,1))\n",
    "for i in range(len(y_target_names)):\n",
    "    if(y_target_names[i] == \"ham\"):\n",
    "        y_target[i] = 1"
   ]
  },
  {
   "cell_type": "code",
   "execution_count": 7,
   "metadata": {},
   "outputs": [],
   "source": [
    "# Split training and test error\n",
    "trainN = int(0.8*N)\n",
    "\n",
    "X_train = x_encoded[0:trainN]\n",
    "y_train = y_target[0:trainN]\n",
    "\n",
    "X_test = x_encoded[trainN:]\n",
    "y_test = y_target[trainN:]"
   ]
  },
  {
   "cell_type": "code",
   "execution_count": 8,
   "metadata": {},
   "outputs": [],
   "source": [
    "N,M = X_train.shape"
   ]
  },
  {
   "cell_type": "code",
   "execution_count": 9,
   "metadata": {},
   "outputs": [],
   "source": [
    "# Using tanh activation function\n",
    "nn = NeuralNetwork(M,np.array([100,50]),1)"
   ]
  },
  {
   "cell_type": "code",
   "execution_count": null,
   "metadata": {},
   "outputs": [
    {
     "name": "stdout",
     "output_type": "stream",
     "text": [
      "-----------Ratio of Correct predictions over testset(507/1115)-----------\n",
      "-----------Ratio of Correct predictions over testset(507/1115)-----------\n",
      "-----------Ratio of Correct predictions over training set(2040/4459)-----------\n",
      "-----------Ratio of Correct predictions over training set(2040/4459)-----------\n",
      "Epoch (1/100) Training Error : 0.460027\n",
      "Epoch (1/100) Training Error : 0.460027\n",
      "Epoch (2/100) Training Error : 0.419348\n",
      "Epoch (2/100) Training Error : 0.419348\n",
      "Epoch (3/100) Training Error : 0.376944\n",
      "Epoch (3/100) Training Error : 0.376944\n",
      "Epoch (4/100) Training Error : 0.330344\n",
      "Epoch (4/100) Training Error : 0.330344\n",
      "Epoch (5/100) Training Error : 0.285475\n",
      "Epoch (5/100) Training Error : 0.285475\n",
      "Epoch (6/100) Training Error : 0.247060\n",
      "Epoch (6/100) Training Error : 0.247060\n",
      "Epoch (7/100) Training Error : 0.216347\n",
      "Epoch (7/100) Training Error : 0.216347\n",
      "Epoch (8/100) Training Error : 0.192381\n",
      "Epoch (8/100) Training Error : 0.192381\n",
      "Epoch (9/100) Training Error : 0.173585\n",
      "Epoch (9/100) Training Error : 0.173585\n",
      "Epoch (10/100) Training Error : 0.158513\n",
      "Epoch (10/100) Training Error : 0.158513\n",
      "Epoch (11/100) Training Error : 0.146049\n",
      "Epoch (11/100) Training Error : 0.146049\n",
      "Epoch (12/100) Training Error : 0.135406\n",
      "Epoch (12/100) Training Error : 0.135406\n",
      "Epoch (13/100) Training Error : 0.126064\n",
      "Epoch (13/100) Training Error : 0.126064\n",
      "Epoch (14/100) Training Error : 0.117697\n",
      "Epoch (14/100) Training Error : 0.117697\n",
      "Epoch (15/100) Training Error : 0.110115\n",
      "Epoch (15/100) Training Error : 0.110115\n",
      "Epoch (16/100) Training Error : 0.103211\n",
      "Epoch (16/100) Training Error : 0.103211\n",
      "Epoch (17/100) Training Error : 0.096918\n",
      "Epoch (17/100) Training Error : 0.096918\n",
      "Epoch (18/100) Training Error : 0.091183\n",
      "Epoch (18/100) Training Error : 0.091183\n",
      "Epoch (19/100) Training Error : 0.085952\n",
      "Epoch (19/100) Training Error : 0.085952\n",
      "Epoch (20/100) Training Error : 0.081170\n",
      "Epoch (20/100) Training Error : 0.081170\n",
      "Epoch (21/100) Training Error : 0.076780\n",
      "Epoch (21/100) Training Error : 0.076780\n",
      "Epoch (22/100) Training Error : 0.072731\n",
      "Epoch (22/100) Training Error : 0.072731\n",
      "Epoch (23/100) Training Error : 0.068979\n",
      "Epoch (23/100) Training Error : 0.068979\n",
      "Epoch (24/100) Training Error : 0.065487\n",
      "Epoch (24/100) Training Error : 0.065487\n",
      "Epoch (25/100) Training Error : 0.062243\n",
      "-----------Ratio of Correct predictions over testset(960/1115)-----------\n",
      "Epoch (25/100) Training Error : 0.062243\n",
      "-----------Ratio of Correct predictions over testset(960/1115)-----------\n",
      "-----------Ratio of Correct predictions over training set(3842/4459)-----------\n",
      "-----------Ratio of Correct predictions over training set(3842/4459)-----------\n"
     ]
    }
   ],
   "source": [
    "nn.train(X_train,y_train,X_test,y_test,epochs=100,learning_rate=1e-1,learning_rate_decay=0.98)"
   ]
  },
  {
   "cell_type": "code",
   "execution_count": 11,
   "metadata": {},
   "outputs": [
    {
     "data": {
      "image/png": "[encoded data removed]",
      "text/plain": [
       "<Figure size 432x288 with 1 Axes>"
      ]
     },
     "metadata": {},
     "output_type": "display_data"
    },
    {
     "data": {
      "image/png": "[encoded data removed]",
      "text/plain": [
       "<Figure size 432x288 with 1 Axes>"
      ]
     },
     "metadata": {},
     "output_type": "display_data"
    }
   ],
   "source": [
    "nn.plot()"
   ]
  },
  {
   "cell_type": "code",
   "execution_count": 12,
   "metadata": {},
   "outputs": [],
   "source": [
    "nn2 = NeuralNetwork(M,np.array([100,50]),2)"
   ]
  },
  {
   "cell_type": "code",
   "execution_count": 13,
   "metadata": {},
   "outputs": [
    {
     "name": "stdout",
     "output_type": "stream",
     "text": [
      "-----------Ratio of Correct predictions over testset(957/1115)-----------\n",
      "-----------Ratio of Correct predictions over testset(957/1115)-----------\n",
      "-----------Ratio of Correct predictions over training set(3822/4459)-----------\n",
      "-----------Ratio of Correct predictions over training set(3822/4459)-----------\n",
      "Epoch (1/100) Training Error : 0.506761\n",
      "Epoch (1/100) Training Error : 0.506761\n",
      "Epoch (2/100) Training Error : 0.495649\n",
      "Epoch (2/100) Training Error : 0.495649\n",
      "Epoch (3/100) Training Error : 0.486296\n",
      "Epoch (3/100) Training Error : 0.486296\n",
      "Epoch (4/100) Training Error : 0.476585\n",
      "Epoch (4/100) Training Error : 0.476585\n",
      "Epoch (5/100) Training Error : 0.465509\n",
      "Epoch (5/100) Training Error : 0.465509\n",
      "Epoch (6/100) Training Error : 0.452417\n",
      "Epoch (6/100) Training Error : 0.452417\n",
      "Epoch (7/100) Training Error : 0.436841\n",
      "Epoch (7/100) Training Error : 0.436841\n",
      "Epoch (8/100) Training Error : 0.418583\n",
      "Epoch (8/100) Training Error : 0.418583\n",
      "Epoch (9/100) Training Error : 0.397910\n",
      "Epoch (9/100) Training Error : 0.397910\n",
      "Epoch (10/100) Training Error : 0.375664\n",
      "Epoch (10/100) Training Error : 0.375664\n",
      "Epoch (11/100) Training Error : 0.353114\n",
      "Epoch (11/100) Training Error : 0.353114\n",
      "Epoch (12/100) Training Error : 0.331551\n",
      "Epoch (12/100) Training Error : 0.331551\n",
      "Epoch (13/100) Training Error : 0.311906\n",
      "Epoch (13/100) Training Error : 0.311906\n",
      "Epoch (14/100) Training Error : 0.294620\n",
      "Epoch (14/100) Training Error : 0.294620\n",
      "Epoch (15/100) Training Error : 0.279735\n",
      "Epoch (15/100) Training Error : 0.279735\n",
      "Epoch (16/100) Training Error : 0.267062\n",
      "Epoch (16/100) Training Error : 0.267062\n",
      "Epoch (17/100) Training Error : 0.256312\n",
      "Epoch (17/100) Training Error : 0.256312\n",
      "Epoch (18/100) Training Error : 0.247181\n",
      "Epoch (18/100) Training Error : 0.247181\n",
      "Epoch (19/100) Training Error : 0.239391\n",
      "Epoch (19/100) Training Error : 0.239391\n",
      "Epoch (20/100) Training Error : 0.232702\n",
      "Epoch (20/100) Training Error : 0.232702\n",
      "Epoch (21/100) Training Error : 0.226916\n",
      "Epoch (21/100) Training Error : 0.226916\n",
      "Epoch (22/100) Training Error : 0.221872\n",
      "Epoch (22/100) Training Error : 0.221872\n",
      "Epoch (23/100) Training Error : 0.217441\n",
      "Epoch (23/100) Training Error : 0.217441\n",
      "Epoch (24/100) Training Error : 0.213520\n",
      "Epoch (24/100) Training Error : 0.213520\n",
      "Epoch (25/100) Training Error : 0.210024\n",
      "Epoch (25/100) Training Error : 0.210024\n",
      "-----------Ratio of Correct predictions over testset(943/1115)-----------\n",
      "-----------Ratio of Correct predictions over testset(943/1115)-----------\n",
      "-----------Ratio of Correct predictions over training set(3765/4459)-----------\n",
      "-----------Ratio of Correct predictions over training set(3765/4459)-----------\n",
      "Epoch (26/100) Training Error : 0.206920\n",
      "Epoch (26/100) Training Error : 0.206920\n",
      "Epoch (27/100) Training Error : 0.204136\n",
      "Epoch (27/100) Training Error : 0.204136\n",
      "Epoch (28/100) Training Error : 0.201600\n",
      "Epoch (28/100) Training Error : 0.201600\n",
      "Epoch (29/100) Training Error : 0.199277\n",
      "Epoch (29/100) Training Error : 0.199277\n",
      "Epoch (30/100) Training Error : 0.197140\n",
      "Epoch (30/100) Training Error : 0.197140\n",
      "Epoch (31/100) Training Error : 0.195163\n",
      "Epoch (31/100) Training Error : 0.195163\n",
      "Epoch (32/100) Training Error : 0.193328\n",
      "Epoch (32/100) Training Error : 0.193328\n",
      "Epoch (33/100) Training Error : 0.191617\n",
      "Epoch (33/100) Training Error : 0.191617\n",
      "Epoch (34/100) Training Error : 0.190018\n",
      "Epoch (34/100) Training Error : 0.190018\n",
      "Epoch (35/100) Training Error : 0.188520\n",
      "Epoch (35/100) Training Error : 0.188520\n",
      "Epoch (36/100) Training Error : 0.187112\n",
      "Epoch (36/100) Training Error : 0.187112\n",
      "Epoch (37/100) Training Error : 0.185787\n",
      "Epoch (37/100) Training Error : 0.185787\n",
      "Epoch (38/100) Training Error : 0.184538\n",
      "Epoch (38/100) Training Error : 0.184538\n",
      "Epoch (39/100) Training Error : 0.183360\n",
      "Epoch (39/100) Training Error : 0.183360\n",
      "Epoch (40/100) Training Error : 0.182247\n",
      "Epoch (40/100) Training Error : 0.182247\n",
      "Epoch (41/100) Training Error : 0.181194\n",
      "Epoch (41/100) Training Error : 0.181194\n",
      "Epoch (42/100) Training Error : 0.180197\n",
      "Epoch (42/100) Training Error : 0.180197\n",
      "Epoch (43/100) Training Error : 0.179252\n",
      "Epoch (43/100) Training Error : 0.179252\n",
      "Epoch (44/100) Training Error : 0.178355\n",
      "Epoch (44/100) Training Error : 0.178355\n",
      "Epoch (45/100) Training Error : 0.177502\n",
      "Epoch (45/100) Training Error : 0.177502\n",
      "Epoch (46/100) Training Error : 0.176688\n",
      "Epoch (46/100) Training Error : 0.176688\n",
      "Epoch (47/100) Training Error : 0.175911\n",
      "Epoch (47/100) Training Error : 0.175911\n",
      "Epoch (48/100) Training Error : 0.175168\n",
      "Epoch (48/100) Training Error : 0.175168\n",
      "Epoch (49/100) Training Error : 0.174454\n",
      "Epoch (49/100) Training Error : 0.174454\n",
      "Epoch (50/100) Training Error : 0.173766\n",
      "Epoch (50/100) Training Error : 0.173766\n",
      "-----------Ratio of Correct predictions over testset(949/1115)-----------\n",
      "-----------Ratio of Correct predictions over testset(949/1115)-----------\n",
      "-----------Ratio of Correct predictions over training set(3813/4459)-----------\n",
      "-----------Ratio of Correct predictions over training set(3813/4459)-----------\n",
      "Epoch (51/100) Training Error : 0.173106\n",
      "Epoch (51/100) Training Error : 0.173106\n",
      "Epoch (52/100) Training Error : 0.172475\n",
      "Epoch (52/100) Training Error : 0.172475\n",
      "Epoch (53/100) Training Error : 0.171862\n",
      "Epoch (53/100) Training Error : 0.171862\n",
      "Epoch (54/100) Training Error : 0.171264\n",
      "Epoch (54/100) Training Error : 0.171264\n",
      "Epoch (55/100) Training Error : 0.170679\n",
      "Epoch (55/100) Training Error : 0.170679\n",
      "Epoch (56/100) Training Error : 0.170104\n",
      "Epoch (56/100) Training Error : 0.170104\n",
      "Epoch (57/100) Training Error : 0.169540\n",
      "Epoch (57/100) Training Error : 0.169540\n",
      "Epoch (58/100) Training Error : 0.168983\n",
      "Epoch (58/100) Training Error : 0.168983\n",
      "Epoch (59/100) Training Error : 0.168434\n",
      "Epoch (59/100) Training Error : 0.168434\n",
      "Epoch (60/100) Training Error : 0.167891\n",
      "Epoch (60/100) Training Error : 0.167891\n",
      "Epoch (61/100) Training Error : 0.167356\n",
      "Epoch (61/100) Training Error : 0.167356\n",
      "Epoch (62/100) Training Error : 0.166828\n",
      "Epoch (62/100) Training Error : 0.166828\n",
      "Epoch (63/100) Training Error : 0.166308\n",
      "Epoch (63/100) Training Error : 0.166308\n",
      "Epoch (64/100) Training Error : 0.165799\n",
      "Epoch (64/100) Training Error : 0.165799\n",
      "Epoch (65/100) Training Error : 0.165301\n",
      "Epoch (65/100) Training Error : 0.165301\n",
      "Epoch (66/100) Training Error : 0.164816\n",
      "Epoch (66/100) Training Error : 0.164816\n",
      "Epoch (67/100) Training Error : 0.164347\n",
      "Epoch (67/100) Training Error : 0.164347\n",
      "Epoch (68/100) Training Error : 0.163893\n",
      "Epoch (68/100) Training Error : 0.163893\n",
      "Epoch (69/100) Training Error : 0.163458\n",
      "Epoch (69/100) Training Error : 0.163458\n",
      "Epoch (70/100) Training Error : 0.163040\n",
      "Epoch (70/100) Training Error : 0.163040\n",
      "Epoch (71/100) Training Error : 0.162641\n",
      "Epoch (71/100) Training Error : 0.162641\n",
      "Epoch (72/100) Training Error : 0.162260\n",
      "Epoch (72/100) Training Error : 0.162260\n",
      "Epoch (73/100) Training Error : 0.161897\n",
      "Epoch (73/100) Training Error : 0.161897\n",
      "Epoch (74/100) Training Error : 0.161552\n",
      "Epoch (74/100) Training Error : 0.161552\n",
      "Epoch (75/100) Training Error : 0.161224\n",
      "Epoch (75/100) Training Error : 0.161224\n",
      "-----------Ratio of Correct predictions over testset(953/1115)-----------\n",
      "-----------Ratio of Correct predictions over testset(953/1115)-----------\n",
      "-----------Ratio of Correct predictions over training set(3831/4459)-----------\n",
      "-----------Ratio of Correct predictions over training set(3831/4459)-----------\n",
      "Epoch (76/100) Training Error : 0.160912\n",
      "Epoch (76/100) Training Error : 0.160912\n",
      "Epoch (77/100) Training Error : 0.160621\n",
      "Epoch (77/100) Training Error : 0.160621\n",
      "Epoch (78/100) Training Error : 0.160343\n",
      "Epoch (78/100) Training Error : 0.160343\n",
      "Epoch (79/100) Training Error : 0.160078\n",
      "Epoch (79/100) Training Error : 0.160078\n",
      "Epoch (80/100) Training Error : 0.159825\n",
      "Epoch (80/100) Training Error : 0.159825\n",
      "Epoch (81/100) Training Error : 0.159584\n",
      "Epoch (81/100) Training Error : 0.159584\n",
      "Epoch (82/100) Training Error : 0.159353\n",
      "Epoch (82/100) Training Error : 0.159353\n",
      "Epoch (83/100) Training Error : 0.159131\n",
      "Epoch (83/100) Training Error : 0.159131\n",
      "Epoch (84/100) Training Error : 0.158920\n",
      "Epoch (84/100) Training Error : 0.158920\n",
      "Epoch (85/100) Training Error : 0.158716\n",
      "Epoch (85/100) Training Error : 0.158716\n",
      "Epoch (86/100) Training Error : 0.158521\n"
     ]
    },
    {
     "name": "stdout",
     "output_type": "stream",
     "text": [
      "Epoch (86/100) Training Error : 0.158521\n",
      "Epoch (87/100) Training Error : 0.158334\n",
      "Epoch (87/100) Training Error : 0.158334\n",
      "Epoch (88/100) Training Error : 0.158154\n",
      "Epoch (88/100) Training Error : 0.158154\n",
      "Epoch (89/100) Training Error : 0.157980\n",
      "Epoch (89/100) Training Error : 0.157980\n",
      "Epoch (90/100) Training Error : 0.157813\n",
      "Epoch (90/100) Training Error : 0.157813\n",
      "Epoch (91/100) Training Error : 0.157652\n",
      "Epoch (91/100) Training Error : 0.157652\n",
      "Epoch (92/100) Training Error : 0.157496\n",
      "Epoch (92/100) Training Error : 0.157496\n",
      "Epoch (93/100) Training Error : 0.157346\n",
      "Epoch (93/100) Training Error : 0.157346\n",
      "Epoch (94/100) Training Error : 0.157201\n",
      "Epoch (94/100) Training Error : 0.157201\n",
      "Epoch (95/100) Training Error : 0.157060\n",
      "Epoch (95/100) Training Error : 0.157060\n",
      "Epoch (96/100) Training Error : 0.156924\n",
      "Epoch (96/100) Training Error : 0.156924\n",
      "Epoch (97/100) Training Error : 0.156792\n",
      "Epoch (97/100) Training Error : 0.156792\n",
      "Epoch (98/100) Training Error : 0.156664\n",
      "Epoch (98/100) Training Error : 0.156664\n",
      "Epoch (99/100) Training Error : 0.156540\n",
      "Epoch (99/100) Training Error : 0.156540\n",
      "Epoch (100/100) Training Error : 0.156420\n",
      "-----------Ratio of Correct predictions over testset(955/1115)-----------\n",
      "Epoch (100/100) Training Error : 0.156420\n",
      "-----------Ratio of Correct predictions over testset(955/1115)-----------\n",
      "-----------Ratio of Correct predictions over training set(3840/4459)-----------\n",
      "-----------Ratio of Correct predictions over training set(3840/4459)-----------\n"
     ]
    }
   ],
   "source": [
    "nn2.train(X_train,y_train,X_test,y_test,epochs=100,learning_rate=1.5e-1,learning_rate_decay=0.98,method=\"two\")"
   ]
  },
  {
   "cell_type": "code",
   "execution_count": 14,
   "metadata": {},
   "outputs": [
    {
     "data": {
      "image/png": "[encoded data removed]",
      "text/plain": [
       "<Figure size 432x288 with 1 Axes>"
      ]
     },
     "metadata": {},
     "output_type": "display_data"
    },
    {
     "data": {
      "image/png": "[encoded data removed]",
      "text/plain": [
       "<Figure size 432x288 with 1 Axes>"
      ]
     },
     "metadata": {},
     "output_type": "display_data"
    }
   ],
   "source": [
    "nn2.plot()"
   ]
  },
  {
   "cell_type": "code",
   "execution_count": 16,
   "metadata": {},
   "outputs": [],
   "source": [
    "# Using sigmoid activation function\n",
    "nn = NeuralNetwork(M,np.array([100,50]),1,activation_function=\"sigmoid\",weight_scale=1)"
   ]
  },
  {
   "cell_type": "code",
   "execution_count": 17,
   "metadata": {},
   "outputs": [
    {
     "name": "stdout",
     "output_type": "stream",
     "text": [
      "-----------Ratio of Correct predictions over testset(781/1115)-----------\n",
      "-----------Ratio of Correct predictions over testset(781/1115)-----------\n",
      "-----------Ratio of Correct predictions over training set(3081/4459)-----------\n",
      "-----------Ratio of Correct predictions over training set(3081/4459)-----------\n",
      "Epoch (1/10) Training Error : 0.235056\n",
      "Epoch (1/10) Training Error : 0.235056\n",
      "Epoch (2/10) Training Error : 0.234625\n",
      "Epoch (2/10) Training Error : 0.234625\n",
      "Epoch (3/10) Training Error : 0.234196\n",
      "Epoch (3/10) Training Error : 0.234196\n",
      "Epoch (4/10) Training Error : 0.233769\n",
      "Epoch (4/10) Training Error : 0.233769\n",
      "Epoch (5/10) Training Error : 0.233345\n",
      "Epoch (5/10) Training Error : 0.233345\n",
      "Epoch (6/10) Training Error : 0.232923\n",
      "Epoch (6/10) Training Error : 0.232923\n",
      "Epoch (7/10) Training Error : 0.232504\n",
      "Epoch (7/10) Training Error : 0.232504\n",
      "Epoch (8/10) Training Error : 0.232087\n",
      "Epoch (8/10) Training Error : 0.232087\n",
      "Epoch (9/10) Training Error : 0.231673\n",
      "Epoch (9/10) Training Error : 0.231673\n",
      "Epoch (10/10) Training Error : 0.231261\n",
      "Epoch (10/10) Training Error : 0.231261\n",
      "-----------Ratio of Correct predictions over testset(786/1115)-----------\n",
      "-----------Ratio of Correct predictions over testset(786/1115)-----------\n",
      "-----------Ratio of Correct predictions over training set(3113/4459)-----------\n",
      "-----------Ratio of Correct predictions over training set(3113/4459)-----------\n"
     ]
    }
   ],
   "source": [
    "nn.train(X_train,y_train,X_test,y_test,epochs=10,learning_rate=1e-3,learning_rate_decay=0.98)"
   ]
  },
  {
   "cell_type": "code",
   "execution_count": 17,
   "metadata": {},
   "outputs": [
    {
     "data": {
      "image/png": "[encoded data removed]",
      "text/plain": [
       "<Figure size 432x288 with 1 Axes>"
      ]
     },
     "metadata": {},
     "output_type": "display_data"
    },
    {
     "data": {
      "image/png": "[encoded data removed]",
      "text/plain": [
       "<Figure size 432x288 with 1 Axes>"
      ]
     },
     "metadata": {},
     "output_type": "display_data"
    }
   ],
   "source": [
    "nn.plot()"
   ]
  },
  {
   "cell_type": "code",
   "execution_count": 18,
   "metadata": {},
   "outputs": [],
   "source": [
    "nn = NeuralNetwork(M,np.array([100,50]),2,activation_function=\"sigmoid\")"
   ]
  },
  {
   "cell_type": "code",
   "execution_count": 19,
   "metadata": {},
   "outputs": [
    {
     "name": "stdout",
     "output_type": "stream",
     "text": [
      "-----------Ratio of Correct predictions over testset(970/1115)-----------\n",
      "-----------Ratio of Correct predictions over testset(970/1115)-----------\n",
      "-----------Ratio of Correct predictions over training set(3857/4459)-----------\n",
      "-----------Ratio of Correct predictions over training set(3857/4459)-----------\n",
      "Epoch (1/100) Training Error : 0.504976\n",
      "Epoch (1/100) Training Error : 0.504976\n",
      "Epoch (2/100) Training Error : 0.505457\n",
      "Epoch (2/100) Training Error : 0.505457\n",
      "Epoch (3/100) Training Error : 0.505640\n",
      "Epoch (3/100) Training Error : 0.505640\n",
      "Epoch (4/100) Training Error : 0.505670\n",
      "Epoch (4/100) Training Error : 0.505670\n",
      "Epoch (5/100) Training Error : 0.505652\n",
      "Epoch (5/100) Training Error : 0.505652\n",
      "Epoch (6/100) Training Error : 0.505620\n",
      "Epoch (6/100) Training Error : 0.505620\n",
      "Epoch (7/100) Training Error : 0.505584\n",
      "Epoch (7/100) Training Error : 0.505584\n",
      "Epoch (8/100) Training Error : 0.505547\n",
      "Epoch (8/100) Training Error : 0.505547\n",
      "Epoch (9/100) Training Error : 0.505509\n",
      "Epoch (9/100) Training Error : 0.505509\n",
      "Epoch (10/100) Training Error : 0.505472\n",
      "Epoch (10/100) Training Error : 0.505472\n",
      "Epoch (11/100) Training Error : 0.505434\n",
      "Epoch (11/100) Training Error : 0.505434\n",
      "Epoch (12/100) Training Error : 0.505396\n",
      "Epoch (12/100) Training Error : 0.505396\n",
      "Epoch (13/100) Training Error : 0.505358\n",
      "Epoch (13/100) Training Error : 0.505358\n",
      "Epoch (14/100) Training Error : 0.505320\n",
      "Epoch (14/100) Training Error : 0.505320\n",
      "Epoch (15/100) Training Error : 0.505282\n",
      "Epoch (15/100) Training Error : 0.505282\n",
      "Epoch (16/100) Training Error : 0.505244\n",
      "Epoch (16/100) Training Error : 0.505244\n",
      "Epoch (17/100) Training Error : 0.505206\n",
      "Epoch (17/100) Training Error : 0.505206\n",
      "Epoch (18/100) Training Error : 0.505168\n",
      "Epoch (18/100) Training Error : 0.505168\n",
      "Epoch (19/100) Training Error : 0.505130\n",
      "Epoch (19/100) Training Error : 0.505130\n",
      "Epoch (20/100) Training Error : 0.505092\n",
      "Epoch (20/100) Training Error : 0.505092\n",
      "Epoch (21/100) Training Error : 0.505054\n",
      "Epoch (21/100) Training Error : 0.505054\n",
      "Epoch (22/100) Training Error : 0.505015\n",
      "Epoch (22/100) Training Error : 0.505015\n",
      "Epoch (23/100) Training Error : 0.504977\n",
      "Epoch (23/100) Training Error : 0.504977\n"
     ]
    },
    {
     "ename": "KeyboardInterrupt",
     "evalue": "",
     "output_type": "error",
     "traceback": [
      "\u001b[0;31m---------------------------------------------------------------------------\u001b[0m",
      "\u001b[0;31mKeyboardInterrupt\u001b[0m                         Traceback (most recent call last)",
      "\u001b[0;32m<ipython-input-19-4eb847a6faee>\u001b[0m in \u001b[0;36m<module>\u001b[0;34m()\u001b[0m\n\u001b[0;32m----> 1\u001b[0;31m \u001b[0mnn\u001b[0m\u001b[0;34m.\u001b[0m\u001b[0mtrain\u001b[0m\u001b[0;34m(\u001b[0m\u001b[0mX_train\u001b[0m\u001b[0;34m,\u001b[0m\u001b[0my_train\u001b[0m\u001b[0;34m,\u001b[0m\u001b[0mX_test\u001b[0m\u001b[0;34m,\u001b[0m\u001b[0my_test\u001b[0m\u001b[0;34m,\u001b[0m\u001b[0mepochs\u001b[0m\u001b[0;34m=\u001b[0m\u001b[0;36m100\u001b[0m\u001b[0;34m,\u001b[0m\u001b[0mlearning_rate\u001b[0m\u001b[0;34m=\u001b[0m\u001b[0;36m1e-1\u001b[0m\u001b[0;34m,\u001b[0m\u001b[0mlearning_rate_decay\u001b[0m\u001b[0;34m=\u001b[0m\u001b[0;36m0.98\u001b[0m\u001b[0;34m,\u001b[0m\u001b[0mmethod\u001b[0m\u001b[0;34m=\u001b[0m\u001b[0;34m\"two\"\u001b[0m\u001b[0;34m)\u001b[0m\u001b[0;34m\u001b[0m\u001b[0m\n\u001b[0m",
      "\u001b[0;32m~/Machine-Learning/assignment2/neuralnetwork.py\u001b[0m in \u001b[0;36mtrain\u001b[0;34m(self, X_train, y_train, X_test, y_test, epochs, learning_rate, learning_rate_decay, batch_size, method)\u001b[0m\n\u001b[1;32m    210\u001b[0m                 \u001b[0;32mfor\u001b[0m \u001b[0mi\u001b[0m \u001b[0;32min\u001b[0m \u001b[0mrange\u001b[0m\u001b[0;34m(\u001b[0m\u001b[0mepochs\u001b[0m\u001b[0;34m)\u001b[0m\u001b[0;34m:\u001b[0m\u001b[0;34m\u001b[0m\u001b[0m\n\u001b[1;32m    211\u001b[0m                         \u001b[0;32mfor\u001b[0m \u001b[0mj\u001b[0m \u001b[0;32min\u001b[0m \u001b[0mrange\u001b[0m\u001b[0;34m(\u001b[0m\u001b[0mno_of_batches\u001b[0m\u001b[0;34m+\u001b[0m\u001b[0;36m1\u001b[0m\u001b[0;34m)\u001b[0m\u001b[0;34m:\u001b[0m\u001b[0;34m\u001b[0m\u001b[0m\n\u001b[0;32m--> 212\u001b[0;31m                                 \u001b[0;32mif\u001b[0m\u001b[0;34m(\u001b[0m\u001b[0mmethod\u001b[0m \u001b[0;34m==\u001b[0m \u001b[0;34m\"two\"\u001b[0m\u001b[0;34m)\u001b[0m\u001b[0;34m:\u001b[0m\u001b[0;34m\u001b[0m\u001b[0m\n\u001b[0m\u001b[1;32m    213\u001b[0m                                         \u001b[0mcost\u001b[0m \u001b[0;34m=\u001b[0m \u001b[0mself\u001b[0m\u001b[0;34m.\u001b[0m\u001b[0mloss_2\u001b[0m\u001b[0;34m(\u001b[0m\u001b[0mX_batches\u001b[0m\u001b[0;34m[\u001b[0m\u001b[0mj\u001b[0m\u001b[0;34m]\u001b[0m\u001b[0;34m,\u001b[0m\u001b[0my_batches\u001b[0m\u001b[0;34m[\u001b[0m\u001b[0mj\u001b[0m\u001b[0;34m]\u001b[0m\u001b[0;34m)\u001b[0m\u001b[0;34m\u001b[0m\u001b[0m\n\u001b[1;32m    214\u001b[0m                                 \u001b[0;32melse\u001b[0m\u001b[0;34m:\u001b[0m\u001b[0;34m\u001b[0m\u001b[0m\n",
      "\u001b[0;32m~/Machine-Learning/assignment2/neuralnetwork.py\u001b[0m in \u001b[0;36mloss_2\u001b[0;34m(self, X, y_target, predict)\u001b[0m\n\u001b[1;32m    169\u001b[0m                                                 \u001b[0mdX\u001b[0m \u001b[0;34m=\u001b[0m \u001b[0mself\u001b[0m\u001b[0;34m.\u001b[0m\u001b[0mdtanh\u001b[0m\u001b[0;34m(\u001b[0m\u001b[0mdX\u001b[0m\u001b[0;34m,\u001b[0m\u001b[0mx_in\u001b[0m\u001b[0;34m)\u001b[0m\u001b[0;34m\u001b[0m\u001b[0m\n\u001b[1;32m    170\u001b[0m \u001b[0;34m\u001b[0m\u001b[0m\n\u001b[0;32m--> 171\u001b[0;31m                                 \u001b[0mself\u001b[0m\u001b[0;34m.\u001b[0m\u001b[0mgrads\u001b[0m\u001b[0;34m[\u001b[0m\u001b[0mindexW\u001b[0m\u001b[0;34m]\u001b[0m\u001b[0;34m,\u001b[0m \u001b[0mself\u001b[0m\u001b[0;34m.\u001b[0m\u001b[0mgrads\u001b[0m\u001b[0;34m[\u001b[0m\u001b[0mindexb\u001b[0m\u001b[0;34m]\u001b[0m\u001b[0;34m,\u001b[0m \u001b[0mdX\u001b[0m \u001b[0;34m=\u001b[0m \u001b[0mself\u001b[0m\u001b[0;34m.\u001b[0m\u001b[0mdlinear\u001b[0m\u001b[0;34m(\u001b[0m\u001b[0mdX\u001b[0m\u001b[0;34m,\u001b[0m\u001b[0mself\u001b[0m\u001b[0;34m.\u001b[0m\u001b[0mparams\u001b[0m\u001b[0;34m[\u001b[0m\u001b[0mindexW\u001b[0m\u001b[0;34m]\u001b[0m\u001b[0;34m,\u001b[0m\u001b[0mx_old\u001b[0m\u001b[0;34m)\u001b[0m\u001b[0;34m\u001b[0m\u001b[0m\n\u001b[0m\u001b[1;32m    172\u001b[0m \u001b[0;34m\u001b[0m\u001b[0m\n\u001b[1;32m    173\u001b[0m                 \u001b[0;32mreturn\u001b[0m \u001b[0mcost\u001b[0m\u001b[0;34m\u001b[0m\u001b[0m\n",
      "\u001b[0;32m~/Machine-Learning/assignment2/neuralnetwork.py\u001b[0m in \u001b[0;36mdlinear\u001b[0;34m(self, dX, W, X)\u001b[0m\n\u001b[1;32m     45\u001b[0m         \u001b[0;32mdef\u001b[0m \u001b[0mdlinear\u001b[0m\u001b[0;34m(\u001b[0m\u001b[0mself\u001b[0m\u001b[0;34m,\u001b[0m\u001b[0mdX\u001b[0m\u001b[0;34m,\u001b[0m\u001b[0mW\u001b[0m\u001b[0;34m,\u001b[0m\u001b[0mX\u001b[0m\u001b[0;34m)\u001b[0m\u001b[0;34m:\u001b[0m\u001b[0;34m\u001b[0m\u001b[0m\n\u001b[1;32m     46\u001b[0m                 \u001b[0mdW\u001b[0m \u001b[0;34m=\u001b[0m \u001b[0mX\u001b[0m\u001b[0;34m.\u001b[0m\u001b[0mT\u001b[0m\u001b[0;34m.\u001b[0m\u001b[0mdot\u001b[0m\u001b[0;34m(\u001b[0m\u001b[0mdX\u001b[0m\u001b[0;34m)\u001b[0m\u001b[0;34m\u001b[0m\u001b[0m\n\u001b[0;32m---> 47\u001b[0;31m                 \u001b[0mdx\u001b[0m \u001b[0;34m=\u001b[0m \u001b[0mdX\u001b[0m\u001b[0;34m.\u001b[0m\u001b[0mdot\u001b[0m\u001b[0;34m(\u001b[0m\u001b[0mW\u001b[0m\u001b[0;34m.\u001b[0m\u001b[0mT\u001b[0m\u001b[0;34m)\u001b[0m\u001b[0;34m\u001b[0m\u001b[0m\n\u001b[0m\u001b[1;32m     48\u001b[0m                 \u001b[0mdb\u001b[0m \u001b[0;34m=\u001b[0m \u001b[0mnp\u001b[0m\u001b[0;34m.\u001b[0m\u001b[0mones\u001b[0m\u001b[0;34m(\u001b[0m\u001b[0mX\u001b[0m\u001b[0;34m.\u001b[0m\u001b[0mshape\u001b[0m\u001b[0;34m[\u001b[0m\u001b[0;36m0\u001b[0m\u001b[0;34m]\u001b[0m\u001b[0;34m)\u001b[0m\u001b[0;34m.\u001b[0m\u001b[0mdot\u001b[0m\u001b[0;34m(\u001b[0m\u001b[0mdX\u001b[0m\u001b[0;34m)\u001b[0m\u001b[0;34m\u001b[0m\u001b[0m\n\u001b[1;32m     49\u001b[0m                 \u001b[0;32mreturn\u001b[0m \u001b[0mdW\u001b[0m\u001b[0;34m,\u001b[0m \u001b[0mdb\u001b[0m\u001b[0;34m,\u001b[0m \u001b[0mdx\u001b[0m\u001b[0;34m\u001b[0m\u001b[0m\n",
      "\u001b[0;31mKeyboardInterrupt\u001b[0m: "
     ]
    },
    {
     "ename": "KeyboardInterrupt",
     "evalue": "",
     "output_type": "error",
     "traceback": [
      "\u001b[0;31m---------------------------------------------------------------------------\u001b[0m",
      "\u001b[0;31mKeyboardInterrupt\u001b[0m                         Traceback (most recent call last)",
      "\u001b[0;32m<ipython-input-19-4eb847a6faee>\u001b[0m in \u001b[0;36m<module>\u001b[0;34m()\u001b[0m\n\u001b[0;32m----> 1\u001b[0;31m \u001b[0mnn\u001b[0m\u001b[0;34m.\u001b[0m\u001b[0mtrain\u001b[0m\u001b[0;34m(\u001b[0m\u001b[0mX_train\u001b[0m\u001b[0;34m,\u001b[0m\u001b[0my_train\u001b[0m\u001b[0;34m,\u001b[0m\u001b[0mX_test\u001b[0m\u001b[0;34m,\u001b[0m\u001b[0my_test\u001b[0m\u001b[0;34m,\u001b[0m\u001b[0mepochs\u001b[0m\u001b[0;34m=\u001b[0m\u001b[0;36m100\u001b[0m\u001b[0;34m,\u001b[0m\u001b[0mlearning_rate\u001b[0m\u001b[0;34m=\u001b[0m\u001b[0;36m1e-1\u001b[0m\u001b[0;34m,\u001b[0m\u001b[0mlearning_rate_decay\u001b[0m\u001b[0;34m=\u001b[0m\u001b[0;36m0.98\u001b[0m\u001b[0;34m,\u001b[0m\u001b[0mmethod\u001b[0m\u001b[0;34m=\u001b[0m\u001b[0;34m\"two\"\u001b[0m\u001b[0;34m)\u001b[0m\u001b[0;34m\u001b[0m\u001b[0m\n\u001b[0m",
      "\u001b[0;32m~/Machine-Learning/assignment2/neuralnetwork.py\u001b[0m in \u001b[0;36mtrain\u001b[0;34m(self, X_train, y_train, X_test, y_test, epochs, learning_rate, learning_rate_decay, batch_size, method)\u001b[0m\n\u001b[1;32m    210\u001b[0m                 \u001b[0;32mfor\u001b[0m \u001b[0mi\u001b[0m \u001b[0;32min\u001b[0m \u001b[0mrange\u001b[0m\u001b[0;34m(\u001b[0m\u001b[0mepochs\u001b[0m\u001b[0;34m)\u001b[0m\u001b[0;34m:\u001b[0m\u001b[0;34m\u001b[0m\u001b[0m\n\u001b[1;32m    211\u001b[0m                         \u001b[0;32mfor\u001b[0m \u001b[0mj\u001b[0m \u001b[0;32min\u001b[0m \u001b[0mrange\u001b[0m\u001b[0;34m(\u001b[0m\u001b[0mno_of_batches\u001b[0m\u001b[0;34m+\u001b[0m\u001b[0;36m1\u001b[0m\u001b[0;34m)\u001b[0m\u001b[0;34m:\u001b[0m\u001b[0;34m\u001b[0m\u001b[0m\n\u001b[0;32m--> 212\u001b[0;31m                                 \u001b[0;32mif\u001b[0m\u001b[0;34m(\u001b[0m\u001b[0mmethod\u001b[0m \u001b[0;34m==\u001b[0m \u001b[0;34m\"two\"\u001b[0m\u001b[0;34m)\u001b[0m\u001b[0;34m:\u001b[0m\u001b[0;34m\u001b[0m\u001b[0m\n\u001b[0m\u001b[1;32m    213\u001b[0m                                         \u001b[0mcost\u001b[0m \u001b[0;34m=\u001b[0m \u001b[0mself\u001b[0m\u001b[0;34m.\u001b[0m\u001b[0mloss_2\u001b[0m\u001b[0;34m(\u001b[0m\u001b[0mX_batches\u001b[0m\u001b[0;34m[\u001b[0m\u001b[0mj\u001b[0m\u001b[0;34m]\u001b[0m\u001b[0;34m,\u001b[0m\u001b[0my_batches\u001b[0m\u001b[0;34m[\u001b[0m\u001b[0mj\u001b[0m\u001b[0;34m]\u001b[0m\u001b[0;34m)\u001b[0m\u001b[0;34m\u001b[0m\u001b[0m\n\u001b[1;32m    214\u001b[0m                                 \u001b[0;32melse\u001b[0m\u001b[0;34m:\u001b[0m\u001b[0;34m\u001b[0m\u001b[0m\n",
      "\u001b[0;32m~/Machine-Learning/assignment2/neuralnetwork.py\u001b[0m in \u001b[0;36mloss_2\u001b[0;34m(self, X, y_target, predict)\u001b[0m\n\u001b[1;32m    169\u001b[0m                                                 \u001b[0mdX\u001b[0m \u001b[0;34m=\u001b[0m \u001b[0mself\u001b[0m\u001b[0;34m.\u001b[0m\u001b[0mdtanh\u001b[0m\u001b[0;34m(\u001b[0m\u001b[0mdX\u001b[0m\u001b[0;34m,\u001b[0m\u001b[0mx_in\u001b[0m\u001b[0;34m)\u001b[0m\u001b[0;34m\u001b[0m\u001b[0m\n\u001b[1;32m    170\u001b[0m \u001b[0;34m\u001b[0m\u001b[0m\n\u001b[0;32m--> 171\u001b[0;31m                                 \u001b[0mself\u001b[0m\u001b[0;34m.\u001b[0m\u001b[0mgrads\u001b[0m\u001b[0;34m[\u001b[0m\u001b[0mindexW\u001b[0m\u001b[0;34m]\u001b[0m\u001b[0;34m,\u001b[0m \u001b[0mself\u001b[0m\u001b[0;34m.\u001b[0m\u001b[0mgrads\u001b[0m\u001b[0;34m[\u001b[0m\u001b[0mindexb\u001b[0m\u001b[0;34m]\u001b[0m\u001b[0;34m,\u001b[0m \u001b[0mdX\u001b[0m \u001b[0;34m=\u001b[0m \u001b[0mself\u001b[0m\u001b[0;34m.\u001b[0m\u001b[0mdlinear\u001b[0m\u001b[0;34m(\u001b[0m\u001b[0mdX\u001b[0m\u001b[0;34m,\u001b[0m\u001b[0mself\u001b[0m\u001b[0;34m.\u001b[0m\u001b[0mparams\u001b[0m\u001b[0;34m[\u001b[0m\u001b[0mindexW\u001b[0m\u001b[0;34m]\u001b[0m\u001b[0;34m,\u001b[0m\u001b[0mx_old\u001b[0m\u001b[0;34m)\u001b[0m\u001b[0;34m\u001b[0m\u001b[0m\n\u001b[0m\u001b[1;32m    172\u001b[0m \u001b[0;34m\u001b[0m\u001b[0m\n\u001b[1;32m    173\u001b[0m                 \u001b[0;32mreturn\u001b[0m \u001b[0mcost\u001b[0m\u001b[0;34m\u001b[0m\u001b[0m\n",
      "\u001b[0;32m~/Machine-Learning/assignment2/neuralnetwork.py\u001b[0m in \u001b[0;36mdlinear\u001b[0;34m(self, dX, W, X)\u001b[0m\n\u001b[1;32m     45\u001b[0m         \u001b[0;32mdef\u001b[0m \u001b[0mdlinear\u001b[0m\u001b[0;34m(\u001b[0m\u001b[0mself\u001b[0m\u001b[0;34m,\u001b[0m\u001b[0mdX\u001b[0m\u001b[0;34m,\u001b[0m\u001b[0mW\u001b[0m\u001b[0;34m,\u001b[0m\u001b[0mX\u001b[0m\u001b[0;34m)\u001b[0m\u001b[0;34m:\u001b[0m\u001b[0;34m\u001b[0m\u001b[0m\n\u001b[1;32m     46\u001b[0m                 \u001b[0mdW\u001b[0m \u001b[0;34m=\u001b[0m \u001b[0mX\u001b[0m\u001b[0;34m.\u001b[0m\u001b[0mT\u001b[0m\u001b[0;34m.\u001b[0m\u001b[0mdot\u001b[0m\u001b[0;34m(\u001b[0m\u001b[0mdX\u001b[0m\u001b[0;34m)\u001b[0m\u001b[0;34m\u001b[0m\u001b[0m\n\u001b[0;32m---> 47\u001b[0;31m                 \u001b[0mdx\u001b[0m \u001b[0;34m=\u001b[0m \u001b[0mdX\u001b[0m\u001b[0;34m.\u001b[0m\u001b[0mdot\u001b[0m\u001b[0;34m(\u001b[0m\u001b[0mW\u001b[0m\u001b[0;34m.\u001b[0m\u001b[0mT\u001b[0m\u001b[0;34m)\u001b[0m\u001b[0;34m\u001b[0m\u001b[0m\n\u001b[0m\u001b[1;32m     48\u001b[0m                 \u001b[0mdb\u001b[0m \u001b[0;34m=\u001b[0m \u001b[0mnp\u001b[0m\u001b[0;34m.\u001b[0m\u001b[0mones\u001b[0m\u001b[0;34m(\u001b[0m\u001b[0mX\u001b[0m\u001b[0;34m.\u001b[0m\u001b[0mshape\u001b[0m\u001b[0;34m[\u001b[0m\u001b[0;36m0\u001b[0m\u001b[0;34m]\u001b[0m\u001b[0;34m)\u001b[0m\u001b[0;34m.\u001b[0m\u001b[0mdot\u001b[0m\u001b[0;34m(\u001b[0m\u001b[0mdX\u001b[0m\u001b[0;34m)\u001b[0m\u001b[0;34m\u001b[0m\u001b[0m\n\u001b[1;32m     49\u001b[0m                 \u001b[0;32mreturn\u001b[0m \u001b[0mdW\u001b[0m\u001b[0;34m,\u001b[0m \u001b[0mdb\u001b[0m\u001b[0;34m,\u001b[0m \u001b[0mdx\u001b[0m\u001b[0;34m\u001b[0m\u001b[0m\n",
      "\u001b[0;31mKeyboardInterrupt\u001b[0m: "
     ]
    }
   ],
   "source": [
    "nn.train(X_train,y_train,X_test,y_test,epochs=100,learning_rate=1e-1,learning_rate_decay=0.98,method=\"two\")"
   ]
  },
  {
   "cell_type": "code",
   "execution_count": null,
   "metadata": {},
   "outputs": [],
   "source": [
    "nn.plot()"
   ]
  },
  {
   "cell_type": "code",
   "execution_count": null,
   "metadata": {},
   "outputs": [],
   "source": []
  }
 ],
 "metadata": {
  "kernelspec": {
   "display_name": "Python 3",
   "language": "python",
   "name": "python3"
  },
  "language_info": {
   "codemirror_mode": {
    "name": "ipython",
    "version": 3
   },
   "file_extension": ".py",
   "mimetype": "text/x-python",
   "name": "python",
   "nbconvert_exporter": "python",
   "pygments_lexer": "ipython3",
   "version": "3.6.5"
  }
 },
 "nbformat": 4,
 "nbformat_minor": 2
}
