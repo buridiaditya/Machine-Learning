{
 "cells": [
  {
   "cell_type": "code",
   "execution_count": 2,
   "metadata": {},
   "outputs": [],
   "source": [
    "import numpy as np\n",
    "import re\n",
    "import nltk\n",
    "from nltk.corpus import stopwords\n",
    "from nltk.stem import PorterStemmer\n",
    "from neuralnetwork import NeuralNetwork\n"
   ]
  },
  {
   "cell_type": "code",
   "execution_count": 3,
   "metadata": {},
   "outputs": [],
   "source": [
    "# Run only if you need to install nltk.corpus and nltk.stem\n",
    "#nltk.download()"
   ]
  },
  {
   "cell_type": "code",
   "execution_count": 4,
   "metadata": {},
   "outputs": [],
   "source": [
    "# Read the data set and parse independent lines\n",
    "fd = open(\"Assignment_2_data.txt\",\"r\")\n",
    "file_data = fd.read()\n",
    "lines = (file_data).splitlines()"
   ]
  },
  {
   "cell_type": "code",
   "execution_count": 5,
   "metadata": {},
   "outputs": [],
   "source": [
    "# Create Necessary objects\n",
    "ps = PorterStemmer()\n",
    "y_target_names = []\n",
    "x = []\n",
    "stop_words = set(stopwords.words('english'))\n",
    "unique_tokens = set()"
   ]
  },
  {
   "cell_type": "code",
   "execution_count": 6,
   "metadata": {},
   "outputs": [],
   "source": [
    "# Pasing input file into labels and features \n",
    "for i in range(len(lines)): \n",
    "    # Splitting based on white space and non alpha numberic characters\n",
    "    words_tokens = re.split('\\W+',lines[i])\n",
    "    words_tokens = list(filter(lambda temp: (temp != '' ),words_tokens)) \n",
    "    \n",
    "    # Removing stop word from the data\n",
    "    filtered_sentence = []\n",
    "    for w in words_tokens:\n",
    "        if w not in stop_words:\n",
    "        # Applying porter stemmer\n",
    "            stemmed_word = ps.stem(w).lower()\n",
    "            filtered_sentence.append(stemmed_word)\n",
    "\n",
    "\n",
    "    # Store pre processed data in x and y_target_names\n",
    "    y_target_names.append(filtered_sentence[0])\n",
    "    x.append(filtered_sentence[1:])\n",
    "    unique_tokens.update(filtered_sentence[1:])"
   ]
  },
  {
   "cell_type": "code",
   "execution_count": 7,
   "metadata": {},
   "outputs": [],
   "source": [
    "# Declare variables for one hot encoding\n",
    "N = len(x)\n",
    "unique_tokens = list(unique_tokens)\n",
    "encoding_length = (len(unique_tokens))\n",
    "x_encoded = np.zeros( ( N , encoding_length) )\n"
   ]
  },
  {
   "cell_type": "code",
   "execution_count": 8,
   "metadata": {},
   "outputs": [],
   "source": [
    "# Binary encoding of features and labels\n",
    "for i in range(N):\n",
    "    for j in x[i]:\n",
    "        ind = unique_tokens.index(j)\n",
    "        x_encoded[i][ind] = 1;\n",
    "        \n",
    "y_target = np.ones((N,1))\n",
    "for i in range(len(y_target_names)):\n",
    "    if(y_target_names[i] == \"ham\"):\n",
    "        y_target[i] = 0"
   ]
  },
  {
   "cell_type": "code",
   "execution_count": 9,
   "metadata": {},
   "outputs": [],
   "source": [
    "# Split training and test error\n",
    "trainN = int(0.8*N)\n",
    "\n",
    "X_train = x_encoded[0:trainN]\n",
    "y_train = y_target[0:trainN]\n",
    "\n",
    "X_test = x_encoded[trainN:]\n",
    "y_test = y_target[trainN:]"
   ]
  },
  {
   "cell_type": "code",
   "execution_count": 10,
   "metadata": {},
   "outputs": [
    {
     "name": "stdout",
     "output_type": "stream",
     "text": [
      "(4459, 7375)\n",
      "(4459, 1)\n"
     ]
    }
   ],
   "source": [
    "N,M = X_train.shape\n",
    "print (X_train.shape)\n",
    "print (y_train.shape)"
   ]
  },
  {
   "cell_type": "code",
   "execution_count": 26,
   "metadata": {},
   "outputs": [],
   "source": [
    "# Using tanh activation function without softmax layer 2A1\n",
    "nn = NeuralNetwork(M,np.array([100,50]),1,weight_scale=1)"
   ]
  },
  {
   "cell_type": "code",
   "execution_count": 27,
   "metadata": {},
   "outputs": [
    {
     "name": "stdout",
     "output_type": "stream",
     "text": [
      "-----------Ratio of Correct predictions over testset(371/1115)-----------\n",
      "-----------Ratio of Correct predictions over training set(1517/4459)-----------\n",
      "Epoch (1/500) Training Error : 0.486240\n",
      "-----------Ratio of Correct predictions over testset(1030/1115)-----------\n",
      "-----------Ratio of Correct predictions over training set(4098/4459)-----------\n",
      "Epoch (2/500) Training Error : 0.265596\n",
      "-----------Ratio of Correct predictions over testset(1033/1115)-----------\n",
      "-----------Ratio of Correct predictions over training set(4203/4459)-----------\n",
      "Epoch (3/500) Training Error : 0.216260\n",
      "-----------Ratio of Correct predictions over testset(1054/1115)-----------\n",
      "-----------Ratio of Correct predictions over training set(4273/4459)-----------\n",
      "Epoch (4/500) Training Error : 0.169731\n",
      "-----------Ratio of Correct predictions over testset(1032/1115)-----------\n",
      "-----------Ratio of Correct predictions over training set(4168/4459)-----------\n",
      "Epoch (5/500) Training Error : 0.155093\n",
      "-----------Ratio of Correct predictions over testset(1064/1115)-----------\n",
      "-----------Ratio of Correct predictions over training set(4268/4459)-----------\n",
      "Epoch (6/500) Training Error : 0.174675\n",
      "-----------Ratio of Correct predictions over testset(1059/1115)-----------\n",
      "-----------Ratio of Correct predictions over training set(4259/4459)-----------\n",
      "Epoch (7/500) Training Error : 0.166727\n",
      "-----------Ratio of Correct predictions over testset(1061/1115)-----------\n",
      "-----------Ratio of Correct predictions over training set(4278/4459)-----------\n",
      "Epoch (8/500) Training Error : 0.135433\n",
      "-----------Ratio of Correct predictions over testset(1065/1115)-----------\n",
      "-----------Ratio of Correct predictions over training set(4329/4459)-----------\n",
      "Epoch (9/500) Training Error : 0.123046\n",
      "-----------Ratio of Correct predictions over testset(1077/1115)-----------\n",
      "-----------Ratio of Correct predictions over training set(4329/4459)-----------\n",
      "Epoch (10/500) Training Error : 0.146425\n",
      "-----------Ratio of Correct predictions over testset(1074/1115)-----------\n",
      "-----------Ratio of Correct predictions over training set(4331/4459)-----------\n",
      "Epoch (11/500) Training Error : 0.120647\n",
      "-----------Ratio of Correct predictions over testset(1080/1115)-----------\n",
      "-----------Ratio of Correct predictions over training set(4357/4459)-----------\n",
      "Epoch (12/500) Training Error : 0.104208\n",
      "-----------Ratio of Correct predictions over testset(1077/1115)-----------\n",
      "-----------Ratio of Correct predictions over training set(4342/4459)-----------\n",
      "Epoch (13/500) Training Error : 0.104322\n",
      "-----------Ratio of Correct predictions over testset(1076/1115)-----------\n",
      "-----------Ratio of Correct predictions over training set(4362/4459)-----------\n",
      "Epoch (14/500) Training Error : 0.103681\n",
      "-----------Ratio of Correct predictions over testset(1040/1115)-----------\n",
      "-----------Ratio of Correct predictions over training set(4232/4459)-----------\n",
      "Epoch (15/500) Training Error : 0.138967\n",
      "-----------Ratio of Correct predictions over testset(1076/1115)-----------\n",
      "-----------Ratio of Correct predictions over training set(4316/4459)-----------\n",
      "Epoch (16/500) Training Error : 0.086893\n",
      "-----------Ratio of Correct predictions over testset(1085/1115)-----------\n",
      "-----------Ratio of Correct predictions over training set(4374/4459)-----------\n",
      "Epoch (17/500) Training Error : 0.108931\n",
      "-----------Ratio of Correct predictions over testset(1077/1115)-----------\n",
      "-----------Ratio of Correct predictions over training set(4363/4459)-----------\n",
      "Epoch (18/500) Training Error : 0.094757\n",
      "-----------Ratio of Correct predictions over testset(1089/1115)-----------\n",
      "-----------Ratio of Correct predictions over training set(4382/4459)-----------\n",
      "Epoch (19/500) Training Error : 0.070328\n",
      "-----------Ratio of Correct predictions over testset(1088/1115)-----------\n",
      "-----------Ratio of Correct predictions over training set(4368/4459)-----------\n",
      "Epoch (20/500) Training Error : 0.084044\n",
      "-----------Ratio of Correct predictions over testset(1089/1115)-----------\n",
      "-----------Ratio of Correct predictions over training set(4382/4459)-----------\n",
      "Epoch (21/500) Training Error : 0.069758\n",
      "-----------Ratio of Correct predictions over testset(1087/1115)-----------\n",
      "-----------Ratio of Correct predictions over training set(4391/4459)-----------\n",
      "Epoch (22/500) Training Error : 0.072357\n",
      "-----------Ratio of Correct predictions over testset(1084/1115)-----------\n",
      "-----------Ratio of Correct predictions over training set(4383/4459)-----------\n",
      "Epoch (23/500) Training Error : 0.068600\n",
      "-----------Ratio of Correct predictions over testset(1081/1115)-----------\n",
      "-----------Ratio of Correct predictions over training set(4388/4459)-----------\n",
      "Epoch (24/500) Training Error : 0.060410\n",
      "-----------Ratio of Correct predictions over testset(1086/1115)-----------\n",
      "-----------Ratio of Correct predictions over training set(4396/4459)-----------\n",
      "Epoch (25/500) Training Error : 0.055451\n",
      "-----------Ratio of Correct predictions over testset(1085/1115)-----------\n",
      "-----------Ratio of Correct predictions over training set(4397/4459)-----------\n",
      "Epoch (26/500) Training Error : 0.070275\n",
      "-----------Ratio of Correct predictions over testset(1084/1115)-----------\n",
      "-----------Ratio of Correct predictions over training set(4389/4459)-----------\n",
      "Epoch (27/500) Training Error : 0.057101\n",
      "-----------Ratio of Correct predictions over testset(1085/1115)-----------\n",
      "-----------Ratio of Correct predictions over training set(4398/4459)-----------\n",
      "Epoch (28/500) Training Error : 0.063161\n",
      "-----------Ratio of Correct predictions over testset(1088/1115)-----------\n",
      "-----------Ratio of Correct predictions over training set(4400/4459)-----------\n",
      "Epoch (29/500) Training Error : 0.067144\n",
      "-----------Ratio of Correct predictions over testset(1083/1115)-----------\n",
      "-----------Ratio of Correct predictions over training set(4378/4459)-----------\n",
      "Epoch (30/500) Training Error : 0.060808\n",
      "-----------Ratio of Correct predictions over testset(1085/1115)-----------\n",
      "-----------Ratio of Correct predictions over training set(4399/4459)-----------\n",
      "Epoch (31/500) Training Error : 0.053602\n",
      "-----------Ratio of Correct predictions over testset(1076/1115)-----------\n",
      "-----------Ratio of Correct predictions over training set(4386/4459)-----------\n",
      "Epoch (32/500) Training Error : 0.074473\n",
      "-----------Ratio of Correct predictions over testset(1065/1115)-----------\n",
      "-----------Ratio of Correct predictions over training set(4372/4459)-----------\n",
      "Epoch (33/500) Training Error : 0.062809\n",
      "-----------Ratio of Correct predictions over testset(1080/1115)-----------\n",
      "-----------Ratio of Correct predictions over training set(4379/4459)-----------\n",
      "Epoch (34/500) Training Error : 0.053409\n",
      "-----------Ratio of Correct predictions over testset(1082/1115)-----------\n",
      "-----------Ratio of Correct predictions over training set(4399/4459)-----------\n",
      "Epoch (35/500) Training Error : 0.054799\n",
      "-----------Ratio of Correct predictions over testset(1088/1115)-----------\n",
      "-----------Ratio of Correct predictions over training set(4405/4459)-----------\n",
      "Epoch (36/500) Training Error : 0.050934\n",
      "-----------Ratio of Correct predictions over testset(1088/1115)-----------\n",
      "-----------Ratio of Correct predictions over training set(4407/4459)-----------\n",
      "Epoch (37/500) Training Error : 0.050850\n",
      "-----------Ratio of Correct predictions over testset(1088/1115)-----------\n",
      "-----------Ratio of Correct predictions over training set(4402/4459)-----------\n",
      "Epoch (38/500) Training Error : 0.053108\n",
      "-----------Ratio of Correct predictions over testset(1087/1115)-----------\n",
      "-----------Ratio of Correct predictions over training set(4410/4459)-----------\n",
      "Epoch (39/500) Training Error : 0.045185\n",
      "-----------Ratio of Correct predictions over testset(1084/1115)-----------\n",
      "-----------Ratio of Correct predictions over training set(4409/4459)-----------\n",
      "Epoch (40/500) Training Error : 0.043831\n",
      "-----------Ratio of Correct predictions over testset(1086/1115)-----------\n",
      "-----------Ratio of Correct predictions over training set(4410/4459)-----------\n",
      "Epoch (41/500) Training Error : 0.043908\n",
      "-----------Ratio of Correct predictions over testset(1086/1115)-----------\n",
      "-----------Ratio of Correct predictions over training set(4412/4459)-----------\n"
     ]
    },
    {
     "ename": "KeyboardInterrupt",
     "evalue": "",
     "output_type": "error",
     "traceback": [
      "\u001b[0;31m---------------------------------------------------------------------------\u001b[0m",
      "\u001b[0;31mKeyboardInterrupt\u001b[0m                         Traceback (most recent call last)",
      "\u001b[0;32m<ipython-input-27-ea63fe2b30c0>\u001b[0m in \u001b[0;36m<module>\u001b[0;34m()\u001b[0m\n\u001b[0;32m----> 1\u001b[0;31m \u001b[0mnn\u001b[0m\u001b[0;34m.\u001b[0m\u001b[0mtrain\u001b[0m\u001b[0;34m(\u001b[0m\u001b[0mX_train\u001b[0m\u001b[0;34m,\u001b[0m\u001b[0my_train\u001b[0m\u001b[0;34m,\u001b[0m\u001b[0mX_test\u001b[0m\u001b[0;34m,\u001b[0m\u001b[0my_test\u001b[0m\u001b[0;34m,\u001b[0m\u001b[0mepochs\u001b[0m\u001b[0;34m=\u001b[0m\u001b[0;36m500\u001b[0m\u001b[0;34m,\u001b[0m\u001b[0mlearning_rate\u001b[0m\u001b[0;34m=\u001b[0m\u001b[0;36m0.1\u001b[0m\u001b[0;34m,\u001b[0m\u001b[0mlearning_rate_decay\u001b[0m\u001b[0;34m=\u001b[0m\u001b[0;36m0.98\u001b[0m\u001b[0;34m,\u001b[0m\u001b[0mbatch_size\u001b[0m\u001b[0;34m=\u001b[0m\u001b[0;36m1\u001b[0m\u001b[0;34m)\u001b[0m\u001b[0;34m\u001b[0m\u001b[0m\n\u001b[0m",
      "\u001b[0;32m~/Machine-Learning/assignment2/neuralnetwork.py\u001b[0m in \u001b[0;36mtrain\u001b[0;34m(self, X_train, y_train, X_test, y_test, epochs, learning_rate, learning_rate_decay, batch_size, method)\u001b[0m\n\u001b[1;32m    251\u001b[0m                                         \u001b[0mtemp1\u001b[0m \u001b[0;34m=\u001b[0m \u001b[0mself\u001b[0m\u001b[0;34m.\u001b[0m\u001b[0mloss_2\u001b[0m\u001b[0;34m(\u001b[0m\u001b[0mX_batches\u001b[0m\u001b[0;34m[\u001b[0m\u001b[0mj\u001b[0m\u001b[0;34m]\u001b[0m\u001b[0;34m,\u001b[0m\u001b[0my_batches\u001b[0m\u001b[0;34m[\u001b[0m\u001b[0mj\u001b[0m\u001b[0;34m]\u001b[0m\u001b[0;34m)\u001b[0m\u001b[0;34m\u001b[0m\u001b[0m\n\u001b[1;32m    252\u001b[0m                                 \u001b[0;32melse\u001b[0m\u001b[0;34m:\u001b[0m\u001b[0;34m\u001b[0m\u001b[0m\n\u001b[0;32m--> 253\u001b[0;31m                                         \u001b[0mtemp1\u001b[0m \u001b[0;34m=\u001b[0m \u001b[0mself\u001b[0m\u001b[0;34m.\u001b[0m\u001b[0mloss_1\u001b[0m\u001b[0;34m(\u001b[0m\u001b[0mX_batches\u001b[0m\u001b[0;34m[\u001b[0m\u001b[0mj\u001b[0m\u001b[0;34m]\u001b[0m\u001b[0;34m,\u001b[0m\u001b[0my_batches\u001b[0m\u001b[0;34m[\u001b[0m\u001b[0mj\u001b[0m\u001b[0;34m]\u001b[0m\u001b[0;34m)\u001b[0m\u001b[0;34m\u001b[0m\u001b[0m\n\u001b[0m\u001b[1;32m    254\u001b[0m \u001b[0;34m\u001b[0m\u001b[0m\n\u001b[1;32m    255\u001b[0m                                 \u001b[0;31m# Compute cummilative cost for showing per epoch cost\u001b[0m\u001b[0;34m\u001b[0m\u001b[0;34m\u001b[0m\u001b[0m\n",
      "\u001b[0;32m~/Machine-Learning/assignment2/neuralnetwork.py\u001b[0m in \u001b[0;36mloss_1\u001b[0;34m(self, X, y_target, predict)\u001b[0m\n\u001b[1;32m     96\u001b[0m                                 \u001b[0mdX\u001b[0m \u001b[0;34m=\u001b[0m \u001b[0mself\u001b[0m\u001b[0;34m.\u001b[0m\u001b[0mdtanh\u001b[0m\u001b[0;34m(\u001b[0m\u001b[0mdX\u001b[0m\u001b[0;34m,\u001b[0m\u001b[0mx_in\u001b[0m\u001b[0;34m)\u001b[0m\u001b[0;34m\u001b[0m\u001b[0m\n\u001b[1;32m     97\u001b[0m \u001b[0;34m\u001b[0m\u001b[0m\n\u001b[0;32m---> 98\u001b[0;31m                         \u001b[0mself\u001b[0m\u001b[0;34m.\u001b[0m\u001b[0mgrads\u001b[0m\u001b[0;34m[\u001b[0m\u001b[0mindexW\u001b[0m\u001b[0;34m]\u001b[0m\u001b[0;34m,\u001b[0m \u001b[0mself\u001b[0m\u001b[0;34m.\u001b[0m\u001b[0mgrads\u001b[0m\u001b[0;34m[\u001b[0m\u001b[0mindexb\u001b[0m\u001b[0;34m]\u001b[0m\u001b[0;34m,\u001b[0m \u001b[0mdX\u001b[0m \u001b[0;34m=\u001b[0m \u001b[0mself\u001b[0m\u001b[0;34m.\u001b[0m\u001b[0mdlinear\u001b[0m\u001b[0;34m(\u001b[0m\u001b[0mdX\u001b[0m\u001b[0;34m,\u001b[0m\u001b[0mself\u001b[0m\u001b[0;34m.\u001b[0m\u001b[0mparams\u001b[0m\u001b[0;34m[\u001b[0m\u001b[0mindexW\u001b[0m\u001b[0;34m]\u001b[0m\u001b[0;34m,\u001b[0m\u001b[0mx_old\u001b[0m\u001b[0;34m)\u001b[0m\u001b[0;34m\u001b[0m\u001b[0m\n\u001b[0m\u001b[1;32m     99\u001b[0m \u001b[0;34m\u001b[0m\u001b[0m\n\u001b[1;32m    100\u001b[0m                 \u001b[0;32mreturn\u001b[0m \u001b[0mcost\u001b[0m\u001b[0;34m\u001b[0m\u001b[0m\n",
      "\u001b[0;32m~/Machine-Learning/assignment2/neuralnetwork.py\u001b[0m in \u001b[0;36mdlinear\u001b[0;34m(self, dX, W, X)\u001b[0m\n\u001b[1;32m     45\u001b[0m \u001b[0;34m\u001b[0m\u001b[0m\n\u001b[1;32m     46\u001b[0m         \u001b[0;32mdef\u001b[0m \u001b[0mdlinear\u001b[0m\u001b[0;34m(\u001b[0m\u001b[0mself\u001b[0m\u001b[0;34m,\u001b[0m\u001b[0mdX\u001b[0m\u001b[0;34m,\u001b[0m\u001b[0mW\u001b[0m\u001b[0;34m,\u001b[0m\u001b[0mX\u001b[0m\u001b[0;34m)\u001b[0m\u001b[0;34m:\u001b[0m\u001b[0;34m\u001b[0m\u001b[0m\n\u001b[0;32m---> 47\u001b[0;31m                 \u001b[0mdW\u001b[0m \u001b[0;34m=\u001b[0m \u001b[0mX\u001b[0m\u001b[0;34m.\u001b[0m\u001b[0mT\u001b[0m\u001b[0;34m.\u001b[0m\u001b[0mdot\u001b[0m\u001b[0;34m(\u001b[0m\u001b[0mdX\u001b[0m\u001b[0;34m)\u001b[0m\u001b[0;34m\u001b[0m\u001b[0m\n\u001b[0m\u001b[1;32m     48\u001b[0m                 \u001b[0mdx\u001b[0m \u001b[0;34m=\u001b[0m \u001b[0mdX\u001b[0m\u001b[0;34m.\u001b[0m\u001b[0mdot\u001b[0m\u001b[0;34m(\u001b[0m\u001b[0mW\u001b[0m\u001b[0;34m.\u001b[0m\u001b[0mT\u001b[0m\u001b[0;34m)\u001b[0m\u001b[0;34m\u001b[0m\u001b[0m\n\u001b[1;32m     49\u001b[0m                 \u001b[0mdb\u001b[0m \u001b[0;34m=\u001b[0m \u001b[0mnp\u001b[0m\u001b[0;34m.\u001b[0m\u001b[0mones\u001b[0m\u001b[0;34m(\u001b[0m\u001b[0mX\u001b[0m\u001b[0;34m.\u001b[0m\u001b[0mshape\u001b[0m\u001b[0;34m[\u001b[0m\u001b[0;36m0\u001b[0m\u001b[0;34m]\u001b[0m\u001b[0;34m)\u001b[0m\u001b[0;34m.\u001b[0m\u001b[0mdot\u001b[0m\u001b[0;34m(\u001b[0m\u001b[0mdX\u001b[0m\u001b[0;34m)\u001b[0m\u001b[0;34m\u001b[0m\u001b[0m\n",
      "\u001b[0;31mKeyboardInterrupt\u001b[0m: "
     ]
    }
   ],
   "source": [
    "nn.train(X_train,y_train,X_test,y_test,epochs=500,learning_rate=0.1,learning_rate_decay=0.98,batch_size=1,bound=0.05)"
   ]
  },
  {
   "cell_type": "code",
   "execution_count": 28,
   "metadata": {},
   "outputs": [
    {
     "data": {
      "image/png": "[encoded data removed]",
      "text/plain": [
       "<matplotlib.figure.Figure at 0x7f24ad5a8b38>"
      ]
     },
     "metadata": {},
     "output_type": "display_data"
    }
   ],
   "source": [
    "nn.plot()"
   ]
  },
  {
   "cell_type": "code",
   "execution_count": 14,
   "metadata": {},
   "outputs": [],
   "source": [
    "# Sigmoid without softmax layer 2A2\n",
    "nn2 = NeuralNetwork(M,np.array([100,50]),1,activation_function=\"sigmoid\",weight_scale=1)"
   ]
  },
  {
   "cell_type": "code",
   "execution_count": 15,
   "metadata": {},
   "outputs": [
    {
     "name": "stdout",
     "output_type": "stream",
     "text": [
      "-----------Ratio of Correct predictions over testset(145/1115)-----------\n",
      "-----------Ratio of Correct predictions over training set(602/4459)-----------\n",
      "Epoch (1/500) Training Error : 0.097693\n",
      "-----------Ratio of Correct predictions over testset(1027/1115)-----------\n",
      "-----------Ratio of Correct predictions over training set(4164/4459)-----------\n",
      "Epoch (2/500) Training Error : 0.046529\n",
      "-----------Ratio of Correct predictions over testset(1046/1115)-----------\n",
      "-----------Ratio of Correct predictions over training set(4291/4459)-----------\n",
      "Epoch (3/500) Training Error : 0.031057\n",
      "-----------Ratio of Correct predictions over testset(1057/1115)-----------\n",
      "-----------Ratio of Correct predictions over training set(4341/4459)-----------\n",
      "Epoch (4/500) Training Error : 0.023489\n",
      "-----------Ratio of Correct predictions over testset(1065/1115)-----------\n",
      "-----------Ratio of Correct predictions over training set(4366/4459)-----------\n",
      "Epoch (5/500) Training Error : 0.018856\n",
      "-----------Ratio of Correct predictions over testset(1071/1115)-----------\n",
      "-----------Ratio of Correct predictions over training set(4386/4459)-----------\n",
      "Epoch (6/500) Training Error : 0.015823\n",
      "-----------Ratio of Correct predictions over testset(1069/1115)-----------\n",
      "-----------Ratio of Correct predictions over training set(4397/4459)-----------\n",
      "Epoch (7/500) Training Error : 0.014110\n",
      "-----------Ratio of Correct predictions over testset(1068/1115)-----------\n",
      "-----------Ratio of Correct predictions over training set(4403/4459)-----------\n",
      "Epoch (8/500) Training Error : 0.012646\n",
      "-----------Ratio of Correct predictions over testset(1069/1115)-----------\n",
      "-----------Ratio of Correct predictions over training set(4408/4459)-----------\n",
      "Epoch (9/500) Training Error : 0.011614\n",
      "-----------Ratio of Correct predictions over testset(1067/1115)-----------\n",
      "-----------Ratio of Correct predictions over training set(4410/4459)-----------\n",
      "Epoch (10/500) Training Error : 0.010986\n",
      "-----------Ratio of Correct predictions over testset(1067/1115)-----------\n",
      "-----------Ratio of Correct predictions over training set(4413/4459)-----------\n",
      "Epoch (11/500) Training Error : 0.010437\n",
      "-----------Ratio of Correct predictions over testset(1067/1115)-----------\n",
      "-----------Ratio of Correct predictions over training set(4416/4459)-----------\n",
      "Epoch (12/500) Training Error : 0.009796\n",
      "-----------Ratio of Correct predictions over testset(1070/1115)-----------\n",
      "-----------Ratio of Correct predictions over training set(4419/4459)-----------\n",
      "Epoch (13/500) Training Error : 0.009323\n",
      "-----------Ratio of Correct predictions over testset(1070/1115)-----------\n",
      "-----------Ratio of Correct predictions over training set(4421/4459)-----------\n",
      "Epoch (14/500) Training Error : 0.008990\n",
      "-----------Ratio of Correct predictions over testset(1070/1115)-----------\n",
      "-----------Ratio of Correct predictions over training set(4422/4459)-----------\n"
     ]
    }
   ],
   "source": [
    "nn2.train(X_train,y_train,X_test,y_test,epochs=500,learning_rate=0.1,learning_rate_decay=0.98,batch_size=1,bound=0.009)"
   ]
  },
  {
   "cell_type": "code",
   "execution_count": 16,
   "metadata": {},
   "outputs": [
    {
     "data": {
      "image/png": "[encoded data removed]",
      "text/plain": [
       "<matplotlib.figure.Figure at 0x7fda5da7a518>"
      ]
     },
     "metadata": {},
     "output_type": "display_data"
    }
   ],
   "source": [
    "nn2.plot()"
   ]
  },
  {
   "cell_type": "code",
   "execution_count": 11,
   "metadata": {},
   "outputs": [],
   "source": [
    "# Using sigmoid activation function with softmax layer 2B1\n",
    "nn = NeuralNetwork(M,np.array([100,50]),2,activation_function=\"sigmoid\",weight_scale=1)"
   ]
  },
  {
   "cell_type": "code",
   "execution_count": 12,
   "metadata": {},
   "outputs": [
    {
     "name": "stdout",
     "output_type": "stream",
     "text": [
      "-----------Ratio of Correct predictions over testset(149/1115)-----------\n",
      "-----------Ratio of Correct predictions over training set(608/4459)-----------\n",
      "Epoch (1/1000) Training Error : 0.139306\n",
      "-----------Ratio of Correct predictions over testset(969/1115)-----------\n",
      "-----------Ratio of Correct predictions over training set(3867/4459)-----------\n",
      "Epoch (2/1000) Training Error : 0.118715\n",
      "-----------Ratio of Correct predictions over testset(992/1115)-----------\n",
      "-----------Ratio of Correct predictions over training set(3981/4459)-----------\n",
      "Epoch (3/1000) Training Error : 0.074170\n",
      "-----------Ratio of Correct predictions over testset(1035/1115)-----------\n",
      "-----------Ratio of Correct predictions over training set(4222/4459)-----------\n",
      "Epoch (4/1000) Training Error : 0.042866\n",
      "-----------Ratio of Correct predictions over testset(1054/1115)-----------\n",
      "-----------Ratio of Correct predictions over training set(4327/4459)-----------\n",
      "Epoch (5/1000) Training Error : 0.027703\n",
      "-----------Ratio of Correct predictions over testset(1064/1115)-----------\n",
      "-----------Ratio of Correct predictions over training set(4366/4459)-----------\n",
      "Epoch (6/1000) Training Error : 0.020711\n",
      "-----------Ratio of Correct predictions over testset(1071/1115)-----------\n",
      "-----------Ratio of Correct predictions over training set(4382/4459)-----------\n",
      "Epoch (7/1000) Training Error : 0.016775\n",
      "-----------Ratio of Correct predictions over testset(1075/1115)-----------\n",
      "-----------Ratio of Correct predictions over training set(4394/4459)-----------\n",
      "Epoch (8/1000) Training Error : 0.014346\n",
      "-----------Ratio of Correct predictions over testset(1076/1115)-----------\n",
      "-----------Ratio of Correct predictions over training set(4402/4459)-----------\n",
      "Epoch (9/1000) Training Error : 0.012661\n",
      "-----------Ratio of Correct predictions over testset(1069/1115)-----------\n",
      "-----------Ratio of Correct predictions over training set(4411/4459)-----------\n",
      "Epoch (10/1000) Training Error : 0.011299\n",
      "-----------Ratio of Correct predictions over testset(1076/1115)-----------\n",
      "-----------Ratio of Correct predictions over training set(4414/4459)-----------\n",
      "Epoch (11/1000) Training Error : 0.010456\n",
      "-----------Ratio of Correct predictions over testset(1077/1115)-----------\n",
      "-----------Ratio of Correct predictions over training set(4415/4459)-----------\n",
      "Epoch (12/1000) Training Error : 0.010042\n",
      "-----------Ratio of Correct predictions over testset(1078/1115)-----------\n",
      "-----------Ratio of Correct predictions over training set(4416/4459)-----------\n",
      "Epoch (13/1000) Training Error : 0.009744\n",
      "-----------Ratio of Correct predictions over testset(1078/1115)-----------\n",
      "-----------Ratio of Correct predictions over training set(4418/4459)-----------\n"
     ]
    }
   ],
   "source": [
    "nn.train(X_train,y_train,X_test,y_test,epochs=1000,learning_rate=1e-1,learning_rate_decay=0.98,batch_size=1,method=\"two\",bound=0.009)"
   ]
  },
  {
   "cell_type": "code",
   "execution_count": 13,
   "metadata": {},
   "outputs": [
    {
     "data": {
      "image/png": "[encoded data removed]",
      "text/plain": [
       "<matplotlib.figure.Figure at 0x7fda7196c0b8>"
      ]
     },
     "metadata": {},
     "output_type": "display_data"
    }
   ],
   "source": [
    "nn.plot()"
   ]
  },
  {
   "cell_type": "code",
   "execution_count": null,
   "metadata": {},
   "outputs": [],
   "source": []
  }
 ],
 "metadata": {
  "kernelspec": {
   "display_name": "Python 3",
   "language": "python",
   "name": "python3"
  },
  "language_info": {
   "codemirror_mode": {
    "name": "ipython",
    "version": 3
   },
   "file_extension": ".py",
   "mimetype": "text/x-python",
   "name": "python",
   "nbconvert_exporter": "python",
   "pygments_lexer": "ipython3",
   "version": "3.5.2"
  }
 },
 "nbformat": 4,
 "nbformat_minor": 2
}
